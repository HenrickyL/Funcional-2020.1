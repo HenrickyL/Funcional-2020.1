{
 "cells": [
  {
   "cell_type": "code",
   "execution_count": null,
   "metadata": {},
   "outputs": [],
   "source": [
    "\n",
    "main = do\n",
    "    line1 <- getLine\n",
    "    line2 <- getLine\n",
    "    let x = read line1 :: Int\n",
    "    let y = read line2 :: Int\n",
    "    print $ soma x"
   ]
  },
  {
   "cell_type": "code",
   "execution_count": null,
   "metadata": {},
   "outputs": [],
   "source": [
    "line1 <- getLine\n",
    "line2 <- getLine\n",
    "let x = read line1 :: Int\n",
    "let y = read line2 :: Int\n",
    "print $ soma x"
   ]
  }
 ],
 "metadata": {
  "kernelspec": {
   "display_name": "Haskell",
   "language": "haskell",
   "name": "haskell"
  }
 },
 "nbformat": 4,
 "nbformat_minor": 2
}
